{
  "nbformat": 4,
  "nbformat_minor": 0,
  "metadata": {
    "colab": {
      "provenance": []
    },
    "kernelspec": {
      "name": "python3",
      "display_name": "Python 3"
    },
    "language_info": {
      "name": "python"
    }
  },
  "cells": [
    {
      "cell_type": "code",
      "execution_count": 13,
      "metadata": {
        "colab": {
          "base_uri": "https://localhost:8080/"
        },
        "id": "5i6mB_ugACiV",
        "outputId": "1f362387-f227-4f33-c031-4d3c9bb6767f"
      },
      "outputs": [
        {
          "output_type": "stream",
          "name": "stdout",
          "text": [
            "10 20 65\n",
            "Grade:A\n"
          ]
        }
      ],
      "source": [
        "a, b, c=map(int,input().split())\n",
        "avg=a+b+c\n",
        "if avg >= 90:\n",
        "  print(\"Grade:A\")\n",
        "elif avg>=89:\n",
        "  print(\"Grade:B\")\n",
        "else:\n",
        "   print(\"Grade:C\")\n",
        "\n"
      ]
    }
  ]
}