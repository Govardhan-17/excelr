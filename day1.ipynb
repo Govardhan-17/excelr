{
  "nbformat": 4,
  "nbformat_minor": 0,
  "metadata": {
    "colab": {
      "provenance": []
    },
    "kernelspec": {
      "name": "python3",
      "display_name": "Python 3"
    },
    "language_info": {
      "name": "python"
    }
  },
  "cells": [
    {
      "cell_type": "code",
      "execution_count": null,
      "metadata": {
        "colab": {
          "base_uri": "https://localhost:8080/"
        },
        "id": "Ff9keAbX8Dfm",
        "outputId": "c46262e3-ea73-4881-b41d-f540e6fcdff1"
      },
      "outputs": [
        {
          "output_type": "stream",
          "name": "stdout",
          "text": [
            "Integer variable:\n",
            "Value: 10, Type: <class 'int'>\n",
            "\n",
            "Float variable:\n",
            "Value: 3.14, Type: <class 'float'>\n",
            "\n",
            "String variable:\n",
            "Value: Hello, World!, Type: <class 'str'>\n",
            "\n",
            "Boolean variable:\n",
            "Value: True, Type: <class 'bool'>\n"
          ]
        }
      ],
      "source": [
        "# Declare variables of different data types\n",
        "integer_var = 10         # Integer\n",
        "float_var = 3.14         # Float\n",
        "string_var = \"Hello, World!\"  # String\n",
        "boolean_var = True       # Boolean\n",
        "\n",
        "# Print each variable and its type\n",
        "print(\"Integer variable:\")\n",
        "print(f\"Value: {integer_var}, Type: {type(integer_var)}\\n\")\n",
        "\n",
        "print(\"Float variable:\")\n",
        "print(f\"Value: {float_var}, Type: {type(float_var)}\\n\")\n",
        "\n",
        "print(\"String variable:\")\n",
        "print(f\"Value: {string_var}, Type: {type(string_var)}\\n\")\n",
        "\n",
        "print(\"Boolean variable:\")\n",
        "print(f\"Value: {boolean_var}, Type: {type(boolean_var)}\")\n"
      ]
    },
    {
      "cell_type": "code",
      "source": [],
      "metadata": {
        "id": "bemBeDn690jH"
      },
      "execution_count": 2,
      "outputs": []
    }
  ]
}