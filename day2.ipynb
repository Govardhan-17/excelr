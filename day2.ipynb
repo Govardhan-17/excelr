{
  "nbformat": 4,
  "nbformat_minor": 0,
  "metadata": {
    "colab": {
      "provenance": []
    },
    "kernelspec": {
      "name": "python3",
      "display_name": "Python 3"
    },
    "language_info": {
      "name": "python"
    }
  },
  "cells": [
    {
      "cell_type": "code",
      "execution_count": 2,
      "metadata": {
        "colab": {
          "base_uri": "https://localhost:8080/"
        },
        "id": "yugVXP6G-cI7",
        "outputId": "e6b15b09-7e2a-4ed0-db56-76afb2110208"
      },
      "outputs": [
        {
          "output_type": "stream",
          "name": "stdout",
          "text": [
            "55\n"
          ]
        }
      ],
      "source": [
        "n = [1,2,55,1515]\n",
        "print(n[2])"
      ]
    },
    {
      "cell_type": "code",
      "source": [
        "m = (21,52,88,48448,515)\n",
        "print(m[:3])"
      ],
      "metadata": {
        "colab": {
          "base_uri": "https://localhost:8080/"
        },
        "id": "jvieDP8Z-x4z",
        "outputId": "a213fbaf-8c8d-4e27-e606-a4bf15f0a10d"
      },
      "execution_count": 3,
      "outputs": [
        {
          "output_type": "stream",
          "name": "stdout",
          "text": [
            "(21, 52, 88)\n"
          ]
        }
      ]
    },
    {
      "cell_type": "code",
      "source": [
        "m={\n",
        "    \"name\":\"vardhan\",\n",
        "    \"age\":20,\n",
        "    \"salary\":20000\n",
        "}\n",
        "print(m[\"age\"])"
      ],
      "metadata": {
        "colab": {
          "base_uri": "https://localhost:8080/"
        },
        "id": "RVpDEv6N_Iq6",
        "outputId": "b6e9420c-05fa-4c3b-ca53-e2699627f66e"
      },
      "execution_count": 5,
      "outputs": [
        {
          "output_type": "stream",
          "name": "stdout",
          "text": [
            "20\n"
          ]
        }
      ]
    }
  ]
}