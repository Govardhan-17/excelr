{
  "nbformat": 4,
  "nbformat_minor": 0,
  "metadata": {
    "colab": {
      "provenance": []
    },
    "kernelspec": {
      "name": "python3",
      "display_name": "Python 3"
    },
    "language_info": {
      "name": "python"
    }
  },
  "cells": [
    {
      "cell_type": "code",
      "execution_count": 3,
      "metadata": {
        "colab": {
          "base_uri": "https://localhost:8080/"
        },
        "id": "F9B3b-nICe3-",
        "outputId": "09d2a7b4-2368-4384-bf84-eb36c9693a2c"
      },
      "outputs": [
        {
          "output_type": "stream",
          "name": "stdout",
          "text": [
            "100\n",
            "50\n"
          ]
        }
      ],
      "source": [
        "n = int(input())\n",
        "sum=0\n",
        "for i in range(1,n+1):\n",
        "  if i%2==0:\n",
        "    sum+=1\n",
        "print(sum)"
      ]
    }
  ]
}